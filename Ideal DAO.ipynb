{
 "cells": [
  {
   "cell_type": "markdown",
   "id": "c66e4c5f-f530-4cce-81ab-afdc18abc888",
   "metadata": {},
   "source": [
    "Minting Formular: $$T = k\\ln(\\dfrac{(R + \\Delta R) * w}{R})$$\n",
    "\n",
    "Burning Formular: $$T = k\\ln(\\dfrac{R * w}{R - \\Delta R}),  \\Delta R = R(1 - we^{-T/k})$$\n",
    "\n",
    "where $w$ is $1e18$(scaling factor)"
   ]
  },
  {
   "cell_type": "code",
   "execution_count": 45,
   "id": "05fc9689-469e-4c29-92b4-7b4050e55598",
   "metadata": {},
   "outputs": [
    {
     "name": "stdout",
     "output_type": "stream",
     "text": [
      "438444.2694669119 1.1e+19\n",
      "1e+19 1e+18\n"
     ]
    }
   ],
   "source": [
    "## import math\n",
    "\n",
    "TOTAL_RESERVE = 1e18\n",
    "\n",
    "k = 10_000\n",
    "\n",
    "def mint(amount: int, reserve: int):\n",
    "    amount_to_mint = k * math.log(((TOTAL_RESERVE + amount) * 1e18) / TOTAL_RESERVE)\n",
    "    reserve += amount\n",
    "    return amount_to_mint, reserve\n",
    "\n",
    "def burn(amount: int, reserve: int):\n",
    "    amount_recievable = reserve * (1 - ((math.exp(-amount/k) * 1e18)))\n",
    "    reserve -= amount_recievable\n",
    "    return amount_recievable, reserve\n",
    "\n",
    "amount_to_mint, new_reserve = mint(10e18, TOTAL_RESERVE)\n",
    "print(amount_to_mint, new_reserve)\n",
    "amount_recievable, reserve = burn(amount_to_mint, new_reserve)\n",
    "print(amount_recievable, reserve)"
   ]
  },
  {
   "cell_type": "code",
   "execution_count": null,
   "id": "c0d3ebf8-4d41-4698-afe6-eefb4b8bb679",
   "metadata": {},
   "outputs": [],
   "source": []
  }
 ],
 "metadata": {
  "kernelspec": {
   "display_name": "Python [conda env:base] *",
   "language": "python",
   "name": "conda-base-py"
  },
  "language_info": {
   "codemirror_mode": {
    "name": "ipython",
    "version": 3
   },
   "file_extension": ".py",
   "mimetype": "text/x-python",
   "name": "python",
   "nbconvert_exporter": "python",
   "pygments_lexer": "ipython3",
   "version": "3.12.7"
  }
 },
 "nbformat": 4,
 "nbformat_minor": 5
}
