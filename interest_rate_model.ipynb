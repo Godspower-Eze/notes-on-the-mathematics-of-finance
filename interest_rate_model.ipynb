{
 "cells": [
  {
   "cell_type": "markdown",
   "id": "f428ef84-7e3b-460c-b320-f8a86a1337dc",
   "metadata": {},
   "source": [
    "# Interest Rate Model"
   ]
  },
  {
   "cell_type": "code",
   "execution_count": 129,
   "id": "cef470a3-ca02-4d14-af68-c9d8c25c1036",
   "metadata": {},
   "outputs": [
    {
     "name": "stdout",
     "output_type": "stream",
     "text": [
      "101\n"
     ]
    },
    {
     "data": {
      "text/plain": [
       "(335, 1505000000000000000, 2525000000000000000)"
      ]
     },
     "execution_count": 129,
     "metadata": {},
     "output_type": "execute_result"
    }
   ],
   "source": [
    "class State:\n",
    "    \n",
    "    def __init__(self):\n",
    "        \n",
    "        self.block_number = 335\n",
    "        self.interest_rate = 5_000_000_000_000_000\n",
    "        self.interest_rate_snapshot = {\n",
    "            \"ACCRUAL_BLOCK_NUMBER\": 234,\n",
    "            \"BORROW_INDEX\": 1_000_000_000_000_000_000\n",
    "        }\n",
    "        self.borrows_prior = 5_000_000_000_000_000_000\n",
    "        \n",
    "    def transition(self, block_delta: int):\n",
    "        self.block_number += block_delta\n",
    "        \n",
    "\n",
    "class Exp:\n",
    "    \n",
    "    mantissa: int\n",
    "    \n",
    "    def __init__(self, mantissa: int):\n",
    "        self.mantissa = mantissa\n",
    "        \n",
    "EXP_SCALE = 1_000_000_000_000_000_000\n",
    "\n",
    "state = State()\n",
    "\n",
    "def mul_scalar_truncate(exp: Exp, scalar: int):\n",
    "    return (exp.mantissa * scalar) // EXP_SCALE\n",
    "\n",
    "def mul_scalar_truncate_add(exp: Exp, scalar: int, addend: int):\n",
    "    return ((exp.mantissa * scalar) // EXP_SCALE) + addend\n",
    "\n",
    "def calculate_interest_rate(state: State) -> (int, int, int):\n",
    "    borrows_prior = state.borrows_prior\n",
    "    borrow_index_prior = state.interest_rate_snapshot[\"BORROW_INDEX\"]\n",
    "    block_delta = state.block_number - state.interest_rate_snapshot[\"ACCRUAL_BLOCK_NUMBER\"]\n",
    "    print(block_delta)\n",
    "    simple_interest_factor = Exp(block_delta * state.interest_rate)\n",
    "    interest_accumulated = mul_scalar_truncate(simple_interest_factor, borrows_prior)\n",
    "    borrow_index = mul_scalar_truncate_add(simple_interest_factor, borrow_index_prior, borrow_index_prior)\n",
    "    state.interest_rate_snapshot[\"ACCRUAL_BLOCK_NUMBER\"] = state.block_number\n",
    "    return (state.block_number, borrow_index, interest_accumulated)\n",
    "\n",
    "calculate_interest_rate(state)"
   ]
  },
  {
   "cell_type": "code",
   "execution_count": 33,
   "id": "ec41ec4b-9bd0-493c-a575-c1e8bd4ef60a",
   "metadata": {},
   "outputs": [
    {
     "data": {
      "text/plain": [
       "5000000000000000.0"
      ]
     },
     "execution_count": 33,
     "metadata": {},
     "output_type": "execute_result"
    }
   ],
   "source": [
    "0.005e18"
   ]
  },
  {
   "cell_type": "code",
   "execution_count": 63,
   "id": "187b6dae-e920-4ab9-872d-0af894077d27",
   "metadata": {},
   "outputs": [
    {
     "data": {
      "text/plain": [
       "True"
      ]
     },
     "execution_count": 63,
     "metadata": {},
     "output_type": "execute_result"
    }
   ],
   "source": [
    "5000000000000000 == 5_000_000_000_000_000"
   ]
  },
  {
   "cell_type": "code",
   "execution_count": 69,
   "id": "af398f3a-f58c-4226-abf0-0dae5af11944",
   "metadata": {},
   "outputs": [
    {
     "data": {
      "text/plain": [
       "102"
      ]
     },
     "execution_count": 69,
     "metadata": {},
     "output_type": "execute_result"
    }
   ],
   "source": [
    "334 - 232"
   ]
  },
  {
   "cell_type": "code",
   "execution_count": 109,
   "id": "bb70119f-92eb-4e7b-a953-4d84795cd51d",
   "metadata": {},
   "outputs": [
    {
     "data": {
      "text/plain": [
       "102"
      ]
     },
     "execution_count": 109,
     "metadata": {},
     "output_type": "execute_result"
    }
   ],
   "source": [
    "335 - 233"
   ]
  },
  {
   "cell_type": "code",
   "execution_count": 14,
   "id": "f616716f-46bd-4044-9a2d-474623ba8f5c",
   "metadata": {},
   "outputs": [
    {
     "data": {
      "text/plain": [
       "93.75"
      ]
     },
     "execution_count": 14,
     "metadata": {},
     "output_type": "execute_result"
    }
   ],
   "source": [
    "RISK_LEVEL = 0.5 # 50%\n",
    "\n",
    "CH_NGN_PRICE = 1600 # 1 USD to 1600 NGN\n",
    "\n",
    "def get_safe_collecteral(borrow_amount: int, price: int = CH_NGN_PRICE, risk_level: int = RISK_LEVEL):\n",
    "    return ((borrow_amount * risk_level) + borrow_amount) / price\n",
    "\n",
    "get_safe_collecteral(100_000)"
   ]
  },
  {
   "cell_type": "code",
   "execution_count": null,
   "id": "3c03e524-a1db-4646-afca-c64c58647c0b",
   "metadata": {},
   "outputs": [],
   "source": []
  }
 ],
 "metadata": {
  "kernelspec": {
   "display_name": "Python 3 (ipykernel)",
   "language": "python",
   "name": "python3"
  },
  "language_info": {
   "codemirror_mode": {
    "name": "ipython",
    "version": 3
   },
   "file_extension": ".py",
   "mimetype": "text/x-python",
   "name": "python",
   "nbconvert_exporter": "python",
   "pygments_lexer": "ipython3",
   "version": "3.11.8"
  }
 },
 "nbformat": 4,
 "nbformat_minor": 5
}
