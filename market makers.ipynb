{
 "cells": [
  {
   "cell_type": "code",
   "execution_count": 41,
   "id": "bf633ebe-3803-4f3a-aa20-33e6ebab438f",
   "metadata": {},
   "outputs": [
    {
     "name": "stdout",
     "output_type": "stream",
     "text": [
      "50000000.0\n",
      "50020000.0\n"
     ]
    }
   ],
   "source": [
    "from typing import List\n",
    "\n",
    "class Dealer:\n",
    "    \n",
    "    liquidity: int\n",
    "    \n",
    "    pnl: int # profit and loss\n",
    "    \n",
    "    def __init__(self, liquidity: int):\n",
    "        self.liquidity = liquidity\n",
    "        self.pnl = 0\n",
    "        \n",
    "    def update_liquidity(self, delta: int):\n",
    "        self.liquidity += delta\n",
    "        \n",
    "    def update_pnl(self, delta: int):\n",
    "        self.pnl += delta\n",
    "    \n",
    "\n",
    "class Price:\n",
    "    \n",
    "    bid: int\n",
    "    \n",
    "    ask: int\n",
    "    \n",
    "    dealer: Dealer\n",
    "    \n",
    "    def __init__(self, bid: int, ask: int, dealer: Dealer):\n",
    "        \n",
    "        self.bid  = bid\n",
    "        \n",
    "        self.ask = ask\n",
    "        \n",
    "        self.dealer = dealer\n",
    "    \n",
    "\n",
    "class Market:\n",
    "    \n",
    "    prices: List[Price]\n",
    "    \n",
    "    def __init__(self, prices: List[Price]):\n",
    "        self.prices = prices\n",
    "    \n",
    "    def buy(self, price_index, amount):\n",
    "        cost = self.prices[price_index].bid * amount\n",
    "        return cost\n",
    "    \n",
    "    def sell(self, price_index, amount):\n",
    "        cost = self.prices[price_index].ask * amount\n",
    "        return cost\n",
    "\n",
    "\n",
    "dealer_1 = Dealer(1_000_000)\n",
    "\n",
    "dealer_2 = Dealer(1_000_000)\n",
    "\n",
    "# dealer_1 sets price bid at $50 and ask at $50.02\n",
    "\n",
    "price_1 = Price(50.00, 50.02, dealer_1)\n",
    "\n",
    "# dealer_2 sets price bid at $49 and ask at $50\n",
    "\n",
    "price_2 = Price(49.00, 50.00, dealer_2)\n",
    "\n",
    "market = Market([price_1, price_2])\n",
    "\n",
    "## A set of impatient traders comes into the market to buy and sell\n",
    "\n",
    "# trader 1 buys at $49"
   ]
  },
  {
   "cell_type": "code",
   "execution_count": null,
   "id": "873ee0bc-036c-4ec7-bbe8-0defe60ffb5e",
   "metadata": {},
   "outputs": [],
   "source": []
  }
 ],
 "metadata": {
  "kernelspec": {
   "display_name": "Python 3 (ipykernel)",
   "language": "python",
   "name": "python3"
  },
  "language_info": {
   "codemirror_mode": {
    "name": "ipython",
    "version": 3
   },
   "file_extension": ".py",
   "mimetype": "text/x-python",
   "name": "python",
   "nbconvert_exporter": "python",
   "pygments_lexer": "ipython3",
   "version": "3.11.8"
  }
 },
 "nbformat": 4,
 "nbformat_minor": 5
}
